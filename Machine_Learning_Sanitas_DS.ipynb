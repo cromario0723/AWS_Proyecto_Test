{
  "nbformat": 4,
  "nbformat_minor": 0,
  "metadata": {
    "colab": {
      "name": " Machine-Learning-Sanitas-DS.ipynb",
      "provenance": [],
      "collapsed_sections": [],
      "toc_visible": true,
      "authorship_tag": "ABX9TyPk1UY0ridNpHtv1u45hns9",
      "include_colab_link": true
    },
    "kernelspec": {
      "name": "python3",
      "display_name": "Python 3"
    },
    "language_info": {
      "name": "python"
    }
  },
  "cells": [
    {
      "cell_type": "markdown",
      "metadata": {
        "id": "view-in-github",
        "colab_type": "text"
      },
      "source": [
        "<a href=\"https://colab.research.google.com/github/rcoroneldev/AWS_Proyecto_Test/blob/master/Machine_Learning_Sanitas_DS.ipynb\" target=\"_parent\"><img src=\"https://colab.research.google.com/assets/colab-badge.svg\" alt=\"Open In Colab\"/></a>"
      ]
    },
    {
      "cell_type": "markdown",
      "source": [
        "# Customer Churn Prediction in Sanitas Case\n",
        " ### Pasos para resolver el problema\n",
        "\n",
        "1. Definir el problema a resolver.\n",
        "2. Adquisicion de los datos. \n",
        "3. Preparar y limpiar los datos (Data preparation).\n",
        "2. Analisis exploratorio de datos (EDA)\n",
        "3. Visualizacion de los datos.\n",
        "4. Modelado.  \n",
        "5. Evaluacion de Modelo.\n",
        "6. Despliegue.\n",
        "7. Conclusion.\n",
        "\n",
        "\n"
      ],
      "metadata": {
        "id": "m-mB_GxKk7m6"
      }
    },
    {
      "cell_type": "markdown",
      "source": [
        "# Instalacion y importacion de librerias"
      ],
      "metadata": {
        "id": "msmcIQC5n20o"
      }
    },
    {
      "cell_type": "code",
      "source": [
        ""
      ],
      "metadata": {
        "id": "ve8xuW2nn7MR"
      },
      "execution_count": 1,
      "outputs": []
    },
    {
      "cell_type": "markdown",
      "source": [
        "# 1. Definicion de problema a resolver"
      ],
      "metadata": {
        "id": "xu_H40S38y_F"
      }
    },
    {
      "cell_type": "markdown",
      "source": [
        "# 2. Adquisicion de los datos"
      ],
      "metadata": {
        "id": "r2yjLmG789SD"
      }
    },
    {
      "cell_type": "markdown",
      "source": [
        "# 3. Preparar y limpiar los datos (Data preparation)\n"
      ],
      "metadata": {
        "id": "9rPFlslY9Muf"
      }
    },
    {
      "cell_type": "markdown",
      "source": [
        "# 4. Analisis exploratorio de datos (EDA)"
      ],
      "metadata": {
        "id": "x8LO36EP9Mym"
      }
    },
    {
      "cell_type": "markdown",
      "source": [
        "# 5. Vsualizacion de los datos"
      ],
      "metadata": {
        "id": "eTvvRFi89M1L"
      }
    },
    {
      "cell_type": "markdown",
      "source": [
        "# 4. Modelado.  "
      ],
      "metadata": {
        "id": "P4ko4b8E9M4O"
      }
    },
    {
      "cell_type": "markdown",
      "source": [
        " # 5. Evaluacion de Modelo."
      ],
      "metadata": {
        "id": "bsGa3zhD9M7S"
      }
    },
    {
      "cell_type": "markdown",
      "source": [
        "# 6. Despliegue."
      ],
      "metadata": {
        "id": "2EP03DYh_D6k"
      }
    },
    {
      "cell_type": "code",
      "source": [
        ""
      ],
      "metadata": {
        "id": "H5JFGFPN83zy"
      },
      "execution_count": null,
      "outputs": []
    },
    {
      "cell_type": "code",
      "source": [
        ""
      ],
      "metadata": {
        "id": "L3LIDBzyn-7B"
      },
      "execution_count": null,
      "outputs": []
    },
    {
      "cell_type": "code",
      "source": [
        ""
      ],
      "metadata": {
        "id": "871HjV8G_vzT"
      },
      "execution_count": null,
      "outputs": []
    },
    {
      "cell_type": "code",
      "source": [
        ""
      ],
      "metadata": {
        "id": "9S2OD5S8_wMF"
      },
      "execution_count": null,
      "outputs": []
    },
    {
      "cell_type": "code",
      "source": [
        ""
      ],
      "metadata": {
        "id": "gdQHtD6j_wlb"
      },
      "execution_count": null,
      "outputs": []
    }
  ]
}